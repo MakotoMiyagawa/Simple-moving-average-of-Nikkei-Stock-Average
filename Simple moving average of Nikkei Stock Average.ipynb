{
 "cells": [
  {
   "cell_type": "code",
   "execution_count": 1,
   "id": "162766b4",
   "metadata": {},
   "outputs": [
    {
     "name": "stdout",
     "output_type": "stream",
     "text": [
      "Requirement already satisfied: pandas_datareader in /Library/Frameworks/Python.framework/Versions/3.10/lib/python3.10/site-packages (0.10.0)\n",
      "Requirement already satisfied: pandas>=0.23 in /Library/Frameworks/Python.framework/Versions/3.10/lib/python3.10/site-packages (from pandas_datareader) (1.4.2)\n",
      "Requirement already satisfied: requests>=2.19.0 in /Library/Frameworks/Python.framework/Versions/3.10/lib/python3.10/site-packages (from pandas_datareader) (2.27.1)\n",
      "Requirement already satisfied: lxml in /Library/Frameworks/Python.framework/Versions/3.10/lib/python3.10/site-packages (from pandas_datareader) (4.8.0)\n",
      "Requirement already satisfied: numpy>=1.21.0 in /Library/Frameworks/Python.framework/Versions/3.10/lib/python3.10/site-packages (from pandas>=0.23->pandas_datareader) (1.22.3)\n",
      "Requirement already satisfied: python-dateutil>=2.8.1 in /Library/Frameworks/Python.framework/Versions/3.10/lib/python3.10/site-packages (from pandas>=0.23->pandas_datareader) (2.8.2)\n",
      "Requirement already satisfied: pytz>=2020.1 in /Library/Frameworks/Python.framework/Versions/3.10/lib/python3.10/site-packages (from pandas>=0.23->pandas_datareader) (2022.1)\n",
      "Requirement already satisfied: urllib3<1.27,>=1.21.1 in /Library/Frameworks/Python.framework/Versions/3.10/lib/python3.10/site-packages (from requests>=2.19.0->pandas_datareader) (1.26.9)\n",
      "Requirement already satisfied: certifi>=2017.4.17 in /Library/Frameworks/Python.framework/Versions/3.10/lib/python3.10/site-packages (from requests>=2.19.0->pandas_datareader) (2021.10.8)\n",
      "Requirement already satisfied: idna<4,>=2.5 in /Library/Frameworks/Python.framework/Versions/3.10/lib/python3.10/site-packages (from requests>=2.19.0->pandas_datareader) (3.3)\n",
      "Requirement already satisfied: charset-normalizer~=2.0.0 in /Library/Frameworks/Python.framework/Versions/3.10/lib/python3.10/site-packages (from requests>=2.19.0->pandas_datareader) (2.0.12)\n",
      "Requirement already satisfied: six>=1.5 in /Library/Frameworks/Python.framework/Versions/3.10/lib/python3.10/site-packages (from python-dateutil>=2.8.1->pandas>=0.23->pandas_datareader) (1.16.0)\n",
      "\u001b[33mWARNING: You are using pip version 22.0.4; however, version 22.1.1 is available.\n",
      "You should consider upgrading via the '/Library/Frameworks/Python.framework/Versions/3.10/bin/python3.10 -m pip install --upgrade pip' command.\u001b[0m\u001b[33m\n",
      "\u001b[0mNote: you may need to restart the kernel to use updated packages.\n"
     ]
    }
   ],
   "source": [
    "pip install pandas_datareader"
   ]
  },
  {
   "cell_type": "code",
   "execution_count": 2,
   "id": "ac49ff59",
   "metadata": {},
   "outputs": [
    {
     "name": "stdout",
     "output_type": "stream",
     "text": [
      "Requirement already satisfied: matplotlib in /Library/Frameworks/Python.framework/Versions/3.10/lib/python3.10/site-packages (3.5.2)\n",
      "Requirement already satisfied: pyparsing>=2.2.1 in /Library/Frameworks/Python.framework/Versions/3.10/lib/python3.10/site-packages (from matplotlib) (3.0.9)\n",
      "Requirement already satisfied: pillow>=6.2.0 in /Library/Frameworks/Python.framework/Versions/3.10/lib/python3.10/site-packages (from matplotlib) (9.1.1)\n",
      "Requirement already satisfied: fonttools>=4.22.0 in /Library/Frameworks/Python.framework/Versions/3.10/lib/python3.10/site-packages (from matplotlib) (4.33.3)\n",
      "Requirement already satisfied: kiwisolver>=1.0.1 in /Library/Frameworks/Python.framework/Versions/3.10/lib/python3.10/site-packages (from matplotlib) (1.4.2)\n",
      "Requirement already satisfied: cycler>=0.10 in /Library/Frameworks/Python.framework/Versions/3.10/lib/python3.10/site-packages (from matplotlib) (0.11.0)\n",
      "Requirement already satisfied: numpy>=1.17 in /Library/Frameworks/Python.framework/Versions/3.10/lib/python3.10/site-packages (from matplotlib) (1.22.3)\n",
      "Requirement already satisfied: python-dateutil>=2.7 in /Library/Frameworks/Python.framework/Versions/3.10/lib/python3.10/site-packages (from matplotlib) (2.8.2)\n",
      "Requirement already satisfied: packaging>=20.0 in /Library/Frameworks/Python.framework/Versions/3.10/lib/python3.10/site-packages (from matplotlib) (21.3)\n",
      "Requirement already satisfied: six>=1.5 in /Library/Frameworks/Python.framework/Versions/3.10/lib/python3.10/site-packages (from python-dateutil>=2.7->matplotlib) (1.16.0)\n",
      "\u001b[33mWARNING: You are using pip version 22.0.4; however, version 22.1.1 is available.\n",
      "You should consider upgrading via the '/Library/Frameworks/Python.framework/Versions/3.10/bin/python3.10 -m pip install --upgrade pip' command.\u001b[0m\u001b[33m\n",
      "\u001b[0mNote: you may need to restart the kernel to use updated packages.\n"
     ]
    }
   ],
   "source": [
    "pip install matplotlib"
   ]
  },
  {
   "cell_type": "code",
   "execution_count": 3,
   "id": "64df07ff",
   "metadata": {},
   "outputs": [],
   "source": [
    "from pandas_datareader import data\n",
    "import pandas as pd\n",
    "import matplotlib.pyplot as plt\n",
    "import numpy as np\n",
    "%matplotlib inline"
   ]
  },
  {
   "cell_type": "code",
   "execution_count": 4,
   "id": "07bb25c6",
   "metadata": {},
   "outputs": [],
   "source": [
    "# start = '2019-06-01'\n",
    "# end = '2020-06-01'\n",
    "\n",
    "# df = data.DataReader('^N225', 'yahoo', start, end)"
   ]
  },
  {
   "cell_type": "code",
   "execution_count": 5,
   "id": "bc8bbb3c",
   "metadata": {},
   "outputs": [
    {
     "ename": "NameError",
     "evalue": "name 'df' is not defined",
     "output_type": "error",
     "traceback": [
      "\u001b[0;31m---------------------------------------------------------------------------\u001b[0m",
      "\u001b[0;31mNameError\u001b[0m                                 Traceback (most recent call last)",
      "Input \u001b[0;32mIn [5]\u001b[0m, in \u001b[0;36m<cell line: 1>\u001b[0;34m()\u001b[0m\n\u001b[0;32m----> 1\u001b[0m \u001b[43mdf\u001b[49m\u001b[38;5;241m.\u001b[39mhead(\u001b[38;5;241m10\u001b[39m)\n",
      "\u001b[0;31mNameError\u001b[0m: name 'df' is not defined"
     ]
    }
   ],
   "source": [
    "df.head(10)"
   ]
  },
  {
   "cell_type": "code",
   "execution_count": null,
   "id": "46ac08db",
   "metadata": {},
   "outputs": [],
   "source": [
    "df.index"
   ]
  },
  {
   "cell_type": "code",
   "execution_count": null,
   "id": "2bc545df",
   "metadata": {},
   "outputs": [],
   "source": [
    "data = df.index\n",
    "price = df['Adj Close']"
   ]
  },
  {
   "cell_type": "code",
   "execution_count": null,
   "id": "7523ee9d",
   "metadata": {},
   "outputs": [],
   "source": [
    "plt.plot(data, price)"
   ]
  },
  {
   "cell_type": "code",
   "execution_count": null,
   "id": "97c19689",
   "metadata": {},
   "outputs": [],
   "source": [
    "plt.figure(figsize = (30, 10))\n",
    "plt.plot(data, price)"
   ]
  },
  {
   "cell_type": "code",
   "execution_count": null,
   "id": "0d383123",
   "metadata": {},
   "outputs": [],
   "source": [
    "plt.figure(figsize = (30, 10))\n",
    "plt.plot(data, price, label='Nikkei225')\n",
    "plt.legend()"
   ]
  },
  {
   "cell_type": "code",
   "execution_count": null,
   "id": "99b9d429",
   "metadata": {},
   "outputs": [],
   "source": [
    "plt.figure(figsize = (30, 10))\n",
    "plt.plot(data, price, label='Nikkei225')\n",
    "plt.title('N225', color = 'blue', backgroundcolor = 'white', size = 40, loc = 'center')\n",
    "plt.legend()"
   ]
  },
  {
   "cell_type": "code",
   "execution_count": null,
   "id": "4f8094dd",
   "metadata": {},
   "outputs": [],
   "source": [
    "plt.figure(figsize = (30, 10))\n",
    "plt.plot(data, price, label='Nikkei225')\n",
    "plt.title('N225', color = 'blue', backgroundcolor = 'white', size = 40, loc = 'center')\n",
    "plt.xlabel('date', color = 'black', size = 30)\n",
    "plt.ylabel('price', color = 'black', size = 30)\n",
    "plt.legend()"
   ]
  },
  {
   "cell_type": "code",
   "execution_count": null,
   "id": "99af19e2",
   "metadata": {},
   "outputs": [],
   "source": [
    "span01 = 5\n",
    "span02 = 25\n",
    "span03 = 50\n",
    "\n",
    "# rolling(移動平均の算出メソッド)  (window = 日数)は間隔をあける日数　　meanは平均\n",
    "df['sma01'] = price.rolling(window = span01).mean()\n",
    "df['sma02'] = price.rolling(window = span02).mean()\n",
    "df['sma03'] = price.rolling(window = span03).mean()"
   ]
  },
  {
   "cell_type": "code",
   "execution_count": null,
   "id": "eaceebf8",
   "metadata": {},
   "outputs": [],
   "source": [
    "pd.set_option('display.max_rows', None)  # 行の省略をさせない\n",
    "df.head(100)"
   ]
  },
  {
   "cell_type": "code",
   "execution_count": null,
   "id": "4c15eab4",
   "metadata": {},
   "outputs": [],
   "source": [
    "plt.figure(figsize = (30, 10))\n",
    "plt.plot(data, price, label = 'Nikkei225')\n",
    "plt.plot(data, df['sma01'], label = 'sma01')\n",
    "plt.plot(data, df['sma02'], label = 'sma02')\n",
    "plt.plot(data, df['sma03'], label = 'sma03')\n",
    "\n",
    "plt.title('N225', color = 'blue', backgroundcolor = 'white', size = 40, loc = 'center')\n",
    "plt.xlabel('date', color = 'black', size = 30)\n",
    "plt.ylabel('price', color = 'black', size = 30)\n",
    "plt.legend()"
   ]
  },
  {
   "cell_type": "code",
   "execution_count": null,
   "id": "29d5c207",
   "metadata": {},
   "outputs": [],
   "source": [
    "# 配色の参考サイト\n",
    "# https://colorhunt.co/palette/184189"
   ]
  },
  {
   "cell_type": "code",
   "execution_count": null,
   "id": "b3bfd258",
   "metadata": {},
   "outputs": [],
   "source": [
    "# カラーをRGB指定\n",
    "plt.figure(figsize = (30, 10))\n",
    "plt.plot(data, price, label = 'Nikkei225', color = '#99b898')\n",
    "plt.plot(data, df['sma01'], label = 'sma01', color = '#e84a5f')\n",
    "plt.plot(data, df['sma02'], label = 'sma02', color = '#ff847c')\n",
    "plt.plot(data, df['sma03'], label = 'sma03', color = '#feceab')\n",
    "\n",
    "plt.title('N225', color = 'blue', backgroundcolor = 'white', size = 40, loc = 'center')\n",
    "plt.xlabel('date', color = 'black', size = 30)\n",
    "plt.ylabel('price', color = 'black', size = 30)\n",
    "plt.legend()"
   ]
  },
  {
   "cell_type": "code",
   "execution_count": null,
   "id": "39e58388",
   "metadata": {},
   "outputs": [],
   "source": [
    "# ゴールデンクロス　短期の移動平均線が中期以上の移動平均線を下から上に抜けること　【価格が上昇しているサイン】\n",
    "# デッドクロス　短期の移動平均線が中期以上の移動平均線を上から下に抜けること　【価格が下降しているサイン】"
   ]
  },
  {
   "cell_type": "code",
   "execution_count": null,
   "id": "1a96423d",
   "metadata": {},
   "outputs": [],
   "source": [
    "# 出来高を棒グラフにする\n",
    "plt.figure(figsize = (30, 10))\n",
    "plt.bar(data, df['Volume'], label='Volumu', color = 'grey')\n",
    "plt.legend()"
   ]
  },
  {
   "cell_type": "code",
   "execution_count": null,
   "id": "0a423124",
   "metadata": {},
   "outputs": [],
   "source": [
    "# 棒グラフと線グラブを二分割表示する\n",
    "plt.figure(figsize = (30, 10))\n",
    "\n",
    "plt.subplot(2, 1, 1)\n",
    "plt.plot(data, price, label = 'Close', color = '#99b898')\n",
    "plt.plot(data, df['sma01'], label = 'sma01', color = '#e84a5f')\n",
    "plt.plot(data, df['sma02'], label = 'sma02', color = '#ff847c')\n",
    "plt.plot(data, df['sma03'], label = 'sma03', color = '#feceab')\n",
    "plt.legend()\n",
    "\n",
    "plt.subplot(2, 1, 2)\n",
    "plt.bar(data, df['Volume'], label='Volumu', color = 'grey')\n",
    "plt.legend()"
   ]
  },
  {
   "cell_type": "markdown",
   "id": "9f33f729",
   "metadata": {},
   "source": [
    "# 個別銘柄のデータ取得"
   ]
  },
  {
   "cell_type": "code",
   "execution_count": 6,
   "id": "da39d226",
   "metadata": {
    "scrolled": false
   },
   "outputs": [],
   "source": [
    "# リクルートホールディングス\n",
    "df = data.DataReader('6098.JP', 'stooq')"
   ]
  },
  {
   "cell_type": "code",
   "execution_count": 7,
   "id": "97f2a257",
   "metadata": {},
   "outputs": [
    {
     "data": {
      "text/html": [
       "<div>\n",
       "<style scoped>\n",
       "    .dataframe tbody tr th:only-of-type {\n",
       "        vertical-align: middle;\n",
       "    }\n",
       "\n",
       "    .dataframe tbody tr th {\n",
       "        vertical-align: top;\n",
       "    }\n",
       "\n",
       "    .dataframe thead th {\n",
       "        text-align: right;\n",
       "    }\n",
       "</style>\n",
       "<table border=\"1\" class=\"dataframe\">\n",
       "  <thead>\n",
       "    <tr style=\"text-align: right;\">\n",
       "      <th></th>\n",
       "      <th>Open</th>\n",
       "      <th>High</th>\n",
       "      <th>Low</th>\n",
       "      <th>Close</th>\n",
       "      <th>Volume</th>\n",
       "    </tr>\n",
       "    <tr>\n",
       "      <th>Date</th>\n",
       "      <th></th>\n",
       "      <th></th>\n",
       "      <th></th>\n",
       "      <th></th>\n",
       "      <th></th>\n",
       "    </tr>\n",
       "  </thead>\n",
       "  <tbody>\n",
       "    <tr>\n",
       "      <th>2022-05-24</th>\n",
       "      <td>4834.0</td>\n",
       "      <td>4839.0</td>\n",
       "      <td>4594.0</td>\n",
       "      <td>4600.0</td>\n",
       "      <td>9441200</td>\n",
       "    </tr>\n",
       "    <tr>\n",
       "      <th>2022-05-23</th>\n",
       "      <td>4874.0</td>\n",
       "      <td>4998.0</td>\n",
       "      <td>4864.0</td>\n",
       "      <td>4924.0</td>\n",
       "      <td>5392100</td>\n",
       "    </tr>\n",
       "    <tr>\n",
       "      <th>2022-05-20</th>\n",
       "      <td>4630.0</td>\n",
       "      <td>4912.0</td>\n",
       "      <td>4555.0</td>\n",
       "      <td>4892.0</td>\n",
       "      <td>9375600</td>\n",
       "    </tr>\n",
       "    <tr>\n",
       "      <th>2022-05-19</th>\n",
       "      <td>4712.0</td>\n",
       "      <td>4721.0</td>\n",
       "      <td>4555.0</td>\n",
       "      <td>4602.0</td>\n",
       "      <td>6785700</td>\n",
       "    </tr>\n",
       "    <tr>\n",
       "      <th>2022-05-18</th>\n",
       "      <td>4897.0</td>\n",
       "      <td>4925.0</td>\n",
       "      <td>4730.0</td>\n",
       "      <td>4801.0</td>\n",
       "      <td>6605500</td>\n",
       "    </tr>\n",
       "  </tbody>\n",
       "</table>\n",
       "</div>"
      ],
      "text/plain": [
       "              Open    High     Low   Close   Volume\n",
       "Date                                               \n",
       "2022-05-24  4834.0  4839.0  4594.0  4600.0  9441200\n",
       "2022-05-23  4874.0  4998.0  4864.0  4924.0  5392100\n",
       "2022-05-20  4630.0  4912.0  4555.0  4892.0  9375600\n",
       "2022-05-19  4712.0  4721.0  4555.0  4602.0  6785700\n",
       "2022-05-18  4897.0  4925.0  4730.0  4801.0  6605500"
      ]
     },
     "execution_count": 7,
     "metadata": {},
     "output_type": "execute_result"
    }
   ],
   "source": [
    "df.head()"
   ]
  },
  {
   "cell_type": "code",
   "execution_count": null,
   "id": "962a8493",
   "metadata": {},
   "outputs": [],
   "source": []
  }
 ],
 "metadata": {
  "kernelspec": {
   "display_name": "Python 3 (ipykernel)",
   "language": "python",
   "name": "python3"
  },
  "language_info": {
   "codemirror_mode": {
    "name": "ipython",
    "version": 3
   },
   "file_extension": ".py",
   "mimetype": "text/x-python",
   "name": "python",
   "nbconvert_exporter": "python",
   "pygments_lexer": "ipython3",
   "version": "3.10.4"
  }
 },
 "nbformat": 4,
 "nbformat_minor": 5
}
